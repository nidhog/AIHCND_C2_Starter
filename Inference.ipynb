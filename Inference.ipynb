{
 "cells": [
  {
   "cell_type": "code",
   "execution_count": 1,
   "metadata": {},
   "outputs": [
    {
     "name": "stderr",
     "output_type": "stream",
     "text": [
      "Using TensorFlow backend.\n"
     ]
    }
   ],
   "source": [
    "import numpy as np\n",
    "import pandas as pd\n",
    "import pydicom\n",
    "%matplotlib inline\n",
    "import matplotlib.pyplot as plt\n",
    "import keras "
   ]
  },
  {
   "cell_type": "code",
   "execution_count": 2,
   "metadata": {},
   "outputs": [],
   "source": [
    "from PIL import Image"
   ]
  },
  {
   "cell_type": "code",
   "execution_count": 3,
   "metadata": {},
   "outputs": [],
   "source": [
    "\n",
    "ds = pydicom.dcmread('test1.dcm')   "
   ]
  },
  {
   "cell_type": "code",
   "execution_count": 4,
   "metadata": {},
   "outputs": [
    {
     "data": {
      "text/plain": [
       "'No Finding'"
      ]
     },
     "execution_count": 4,
     "metadata": {},
     "output_type": "execute_result"
    }
   ],
   "source": [
    "ds.StudyDescription"
   ]
  },
  {
   "cell_type": "code",
   "execution_count": 52,
   "metadata": {},
   "outputs": [],
   "source": [
    "# This function reads in a .dcm file, checks the important fields for our device, and returns a numpy array\n",
    "# of just the imaging data\n",
    "def check_dicom(filename): \n",
    "    # todo\n",
    "    \n",
    "    print('\\n> Load file {} ...'.format(filename))\n",
    "    ds = pydicom.dcmread(filename)    \n",
    "    print('  Finding: {}'.format(ds.StudyDescription))\n",
    "    img = ds.pixel_array\n",
    "    \n",
    "    if (ds.Modality, ds.BodyPartExamined)==('DX', 'CHEST') and ds.PatientPosition in ['PA','AP']:\n",
    "        img = ds.pixel_array\n",
    "        return img\n",
    "    print('  Skipping file {} : \\n- Modality: \\\"{}\\\"\\n- Body Part: \\\"{}\\\"\\n- Patient Position: \\\"{}\\\"'\n",
    "          .format(filename, ds.Modality, ds.BodyPartExamined, ds.PatientPosition))\n",
    "    \n",
    "    \n",
    "# This function takes the numpy array output by check_dicom and \n",
    "# runs the appropriate pre-processing needed for our model input\n",
    "def preprocess_image(img,img_mean,img_std,img_size, rescale=1/255): \n",
    "    proc_img = img * rescale\n",
    "    proc_img = (img - img_mean) / img_std\n",
    "    proc_img.resize(img_size, refcheck=True)\n",
    "    return proc_img\n",
    "\n",
    "# This function loads in our trained model w/ weights and compiles it \n",
    "def load_model(model_path, weight_path, json=True):\n",
    "    if json:\n",
    "        with open(model_path, 'r') as f:\n",
    "            jmodel = f.read()\n",
    "            model = keras.models.model_from_json(jmodel)\n",
    "    else:\n",
    "        model = keras.models.load_model(model_path)\n",
    "    model.load_weights(weight_path)\n",
    "    \n",
    "    return model\n",
    "\n",
    "# This function uses our device's threshold parameters to predict whether or not\n",
    "# the image shows the presence of pneumonia using our trained model\n",
    "def predict_image(model, img, thresh): \n",
    "    p_Y = model.predict(img)\n",
    "    print(p_Y)\n",
    "    prediction = 'Pneumonia' if p_Y[0,0] >= thresh else 'No pneumonia'\n",
    "    return prediction "
   ]
  },
  {
   "cell_type": "code",
   "execution_count": null,
   "metadata": {},
   "outputs": [],
   "source": []
  },
  {
   "cell_type": "code",
   "execution_count": 54,
   "metadata": {},
   "outputs": [
    {
     "name": "stdout",
     "output_type": "stream",
     "text": [
      "\n",
      "> Load file test1.dcm ...\n",
      "  Finding: No Finding\n",
      "(1, 224, 224, 3)\n",
      "[[0.53022355]]\n",
      "Pneumonia\n",
      "\n",
      "> Load file test2.dcm ...\n",
      "  Finding: Cardiomegaly\n",
      "(1, 224, 224, 3)\n",
      "[[0.54142046]]\n",
      "Pneumonia\n",
      "\n",
      "> Load file test3.dcm ...\n",
      "  Finding: Effusion\n",
      "(1, 224, 224, 3)\n",
      "[[0.5366784]]\n",
      "Pneumonia\n",
      "\n",
      "> Load file test4.dcm ...\n",
      "  Finding: No Finding\n",
      "  Skipping file test4.dcm : \n",
      "- Modality: \"DX\"\n",
      "- Body Part: \"RIBCAGE\"\n",
      "- Patient Position: \"PA\"\n",
      "\n",
      "> Load file test5.dcm ...\n",
      "  Finding: No Finding\n",
      "  Skipping file test5.dcm : \n",
      "- Modality: \"CT\"\n",
      "- Body Part: \"CHEST\"\n",
      "- Patient Position: \"PA\"\n",
      "\n",
      "> Load file test6.dcm ...\n",
      "  Finding: No Finding\n",
      "  Skipping file test6.dcm : \n",
      "- Modality: \"DX\"\n",
      "- Body Part: \"CHEST\"\n",
      "- Patient Position: \"XX\"\n"
     ]
    }
   ],
   "source": [
    "\n",
    "\n",
    "model_path = 'latest_model.json'#path to saved model\n",
    "weight_path = \"{}_my_model.best.hdf5\".format('xray_class')#path to saved best weights\n",
    "\n",
    "IMG_SIZE=(1,224,224,3) # This might be different if you did not use vgg16\n",
    "\n",
    "my_model = load_model(model_path, weight_path) #loads model\n",
    "\n",
    "thresh = 0.25 #loads the threshold they chose for model classification \n",
    "\n",
    "# use the .dcm files to test your prediction\n",
    "for i in test_dicoms:\n",
    "    \n",
    "    img = np.array([])\n",
    "    img = check_dicom(i)\n",
    "    \n",
    "    if img is None:\n",
    "        continue\n",
    "    img_mean = img.mean()# the self mean of each image was used during training\n",
    "    img_std = img.std()# the self std dev of each image was used during training\n",
    "    img_proc = preprocess_image(img,img_mean,img_std,IMG_SIZE)\n",
    "    pred = predict_image(my_model,img_proc,thresh)\n",
    "    print(pred)"
   ]
  },
  {
   "cell_type": "markdown",
   "metadata": {},
   "source": [
    "The above results can be used within a PACS workstation for workflow prioritization."
   ]
  },
  {
   "cell_type": "code",
   "execution_count": null,
   "metadata": {},
   "outputs": [],
   "source": []
  },
  {
   "cell_type": "code",
   "execution_count": null,
   "metadata": {},
   "outputs": [],
   "source": []
  },
  {
   "cell_type": "code",
   "execution_count": null,
   "metadata": {},
   "outputs": [],
   "source": []
  },
  {
   "cell_type": "code",
   "execution_count": null,
   "metadata": {},
   "outputs": [],
   "source": []
  },
  {
   "cell_type": "code",
   "execution_count": null,
   "metadata": {},
   "outputs": [],
   "source": []
  },
  {
   "cell_type": "code",
   "execution_count": null,
   "metadata": {},
   "outputs": [],
   "source": []
  },
  {
   "cell_type": "code",
   "execution_count": null,
   "metadata": {},
   "outputs": [],
   "source": []
  },
  {
   "cell_type": "code",
   "execution_count": null,
   "metadata": {},
   "outputs": [],
   "source": []
  },
  {
   "cell_type": "code",
   "execution_count": null,
   "metadata": {},
   "outputs": [],
   "source": []
  },
  {
   "cell_type": "code",
   "execution_count": null,
   "metadata": {},
   "outputs": [],
   "source": []
  },
  {
   "cell_type": "code",
   "execution_count": null,
   "metadata": {},
   "outputs": [],
   "source": []
  },
  {
   "cell_type": "code",
   "execution_count": null,
   "metadata": {},
   "outputs": [],
   "source": []
  }
 ],
 "metadata": {
  "kernelspec": {
   "display_name": "Python 3",
   "language": "python",
   "name": "python3"
  },
  "language_info": {
   "codemirror_mode": {
    "name": "ipython",
    "version": 3
   },
   "file_extension": ".py",
   "mimetype": "text/x-python",
   "name": "python",
   "nbconvert_exporter": "python",
   "pygments_lexer": "ipython3",
   "version": "3.7.6"
  }
 },
 "nbformat": 4,
 "nbformat_minor": 2
}
